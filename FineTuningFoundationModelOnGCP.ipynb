{
 "cells": [
  {
   "cell_type": "code",
   "execution_count": 1,
   "metadata": {},
   "outputs": [
    {
     "name": "stdout",
     "output_type": "stream",
     "text": [
      "ok\n"
     ]
    }
   ],
   "source": [
    "print('ok')"
   ]
  },
  {
   "cell_type": "code",
   "execution_count": 7,
   "metadata": {},
   "outputs": [],
   "source": [
    "from google.cloud import aiplatform\n",
    "from google.auth import default\n",
    "from google.auth.transport.requests import Request\n",
    "from google.oauth2.credentials import Credentials\n",
    "import vertexai\n"
   ]
  },
  {
   "cell_type": "code",
   "execution_count": 15,
   "metadata": {},
   "outputs": [],
   "source": [
    "PROJECT_ID=\"fine-tune-vertexai\"\n",
    "vertexai.init(project=PROJECT_ID)\n"
   ]
  },
  {
   "cell_type": "code",
   "execution_count": 16,
   "metadata": {},
   "outputs": [],
   "source": [
    "project_id=\"fine-tune-vertexai\"\n",
    "region=\"us-central1\"\n",
    "REGION=\"us-central1\"\n"
   ]
  },
  {
   "cell_type": "code",
   "execution_count": 17,
   "metadata": {},
   "outputs": [],
   "source": [
    "#! gcloud config set project {project_id}\n",
    "#! gcloud auth login\n",
    "#! gcloud auth application-default set-quota-project {project_id}\n",
    "#! gcloud auth application-default login"
   ]
  },
  {
   "cell_type": "code",
   "execution_count": 18,
   "metadata": {},
   "outputs": [],
   "source": [
    "#Import the necessary libraries\n",
    "import os\n",
    "os. environ ['TF_CPP_MIN_LOG_LEVEL '] = '3'\n",
    "import warnings\n",
    "warnings. filterwarnings('ignore')\n",
    "import vertexai\n",
    "vertexai. init(project=PROJECT_ID, location=REGION)\n",
    "import kfp \n",
    "import sys \n",
    "import uuid \n",
    "import json \n",
    "import vertexai \n",
    "import pandas as pd \n",
    "from google.auth import default \n",
    "from datasets import load_dataset \n",
    "from google.cloud import aiplatform\n",
    "from vertexai.preview.language_models import TextGenerationModel, EvaluationTextSummarizationSpec"
   ]
  },
  {
   "cell_type": "code",
   "execution_count": 19,
   "metadata": {},
   "outputs": [],
   "source": [
    "BUCKET_NAME=\"my-finetuning-data\"\n",
    "BUCKET_URI=f\"gs://my-finetuning-data/output.jsonl\"\n",
    "REGION=\"me-west1\""
   ]
  },
  {
   "cell_type": "code",
   "execution_count": 20,
   "metadata": {},
   "outputs": [
    {
     "data": {
      "text/html": [
       "<div>\n",
       "<style scoped>\n",
       "    .dataframe tbody tr th:only-of-type {\n",
       "        vertical-align: middle;\n",
       "    }\n",
       "\n",
       "    .dataframe tbody tr th {\n",
       "        vertical-align: top;\n",
       "    }\n",
       "\n",
       "    .dataframe thead th {\n",
       "        text-align: right;\n",
       "    }\n",
       "</style>\n",
       "<table border=\"1\" class=\"dataframe\">\n",
       "  <thead>\n",
       "    <tr style=\"text-align: right;\">\n",
       "      <th></th>\n",
       "      <th>input_text</th>\n",
       "      <th>out_text</th>\n",
       "    </tr>\n",
       "  </thead>\n",
       "  <tbody>\n",
       "    <tr>\n",
       "      <th>0</th>\n",
       "      <td>UK economy facing 'major risks'  The UK manufa...</td>\n",
       "      <td>UK economy facing 'major risks'  The UK manufa...</td>\n",
       "    </tr>\n",
       "    <tr>\n",
       "      <th>1</th>\n",
       "      <td>Aids and climate top Davos agenda  Climate cha...</td>\n",
       "      <td>Aids and climate top Davos agenda  Climate cha...</td>\n",
       "    </tr>\n",
       "    <tr>\n",
       "      <th>2</th>\n",
       "      <td>Asian quake hits European shares  Shares in Eu...</td>\n",
       "      <td>Asian quake hits European shares  Shares in Eu...</td>\n",
       "    </tr>\n",
       "    <tr>\n",
       "      <th>3</th>\n",
       "      <td>India power shares jump on debut  Shares in In...</td>\n",
       "      <td>India power shares jump on debut  Shares in In...</td>\n",
       "    </tr>\n",
       "    <tr>\n",
       "      <th>4</th>\n",
       "      <td>Lacroix label bought by US firm  Luxury goods ...</td>\n",
       "      <td>Lacroix label bought by US firm  Luxury goods ...</td>\n",
       "    </tr>\n",
       "  </tbody>\n",
       "</table>\n",
       "</div>"
      ],
      "text/plain": [
       "                                          input_text  \\\n",
       "0  UK economy facing 'major risks'  The UK manufa...   \n",
       "1  Aids and climate top Davos agenda  Climate cha...   \n",
       "2  Asian quake hits European shares  Shares in Eu...   \n",
       "3  India power shares jump on debut  Shares in In...   \n",
       "4  Lacroix label bought by US firm  Luxury goods ...   \n",
       "\n",
       "                                            out_text  \n",
       "0  UK economy facing 'major risks'  The UK manufa...  \n",
       "1  Aids and climate top Davos agenda  Climate cha...  \n",
       "2  Asian quake hits European shares  Shares in Eu...  \n",
       "3  India power shares jump on debut  Shares in In...  \n",
       "4  Lacroix label bought by US firm  Luxury goods ...  "
      ]
     },
     "execution_count": 20,
     "metadata": {},
     "output_type": "execute_result"
    }
   ],
   "source": [
    "json_url=\"https://storage.cloud.google.com/my-finetuning-data/output.jsonl\"\n",
    "df=pd.read_json(\"output.jsonl\", lines=True)\n",
    "df.head()"
   ]
  },
  {
   "cell_type": "code",
   "execution_count": 21,
   "metadata": {},
   "outputs": [
    {
     "data": {
      "text/plain": [
       "(510, 2)"
      ]
     },
     "execution_count": 21,
     "metadata": {},
     "output_type": "execute_result"
    }
   ],
   "source": [
    "df.shape"
   ]
  },
  {
   "cell_type": "code",
   "execution_count": 22,
   "metadata": {},
   "outputs": [
    {
     "name": "stdout",
     "output_type": "stream",
     "text": [
      "Creating PipelineJob\n",
      "PipelineJob created. Resource name: projects/50947485775/locations/us-central1/pipelineJobs/tune-large-model-20240529112140\n",
      "To use this PipelineJob in another session:\n",
      "pipeline_job = aiplatform.PipelineJob.get('projects/50947485775/locations/us-central1/pipelineJobs/tune-large-model-20240529112140')\n",
      "View Pipeline Job:\n",
      "https://console.cloud.google.com/vertex-ai/locations/us-central1/pipelines/runs/tune-large-model-20240529112140?project=50947485775\n",
      "PipelineJob projects/50947485775/locations/us-central1/pipelineJobs/tune-large-model-20240529112140 current state:\n",
      "PipelineState.PIPELINE_STATE_PENDING\n",
      "PipelineJob projects/50947485775/locations/us-central1/pipelineJobs/tune-large-model-20240529112140 current state:\n",
      "PipelineState.PIPELINE_STATE_RUNNING\n",
      "PipelineJob projects/50947485775/locations/us-central1/pipelineJobs/tune-large-model-20240529112140 current state:\n",
      "PipelineState.PIPELINE_STATE_RUNNING\n",
      "PipelineJob projects/50947485775/locations/us-central1/pipelineJobs/tune-large-model-20240529112140 current state:\n",
      "PipelineState.PIPELINE_STATE_RUNNING\n",
      "PipelineJob projects/50947485775/locations/us-central1/pipelineJobs/tune-large-model-20240529112140 current state:\n",
      "PipelineState.PIPELINE_STATE_RUNNING\n"
     ]
    },
    {
     "ename": "RuntimeError",
     "evalue": "Job failed with:\ncode: 9\nmessage: \"The DAG failed because some tasks failed. The failed tasks are: [validate-pipeline].; Job (project_id = fine-tune-vertexai, job_id = 5766574824214233088) is failed due to the above error.; Failed to handle the job: {project_number = 50947485775, job_id = 5766574824214233088}\"\n",
     "output_type": "error",
     "traceback": [
      "\u001b[0;31m---------------------------------------------------------------------------\u001b[0m",
      "\u001b[0;31mRuntimeError\u001b[0m                              Traceback (most recent call last)",
      "Cell \u001b[0;32mIn[22], line 3\u001b[0m\n\u001b[1;32m      1\u001b[0m model_display_name \u001b[38;5;241m=\u001b[39m \u001b[38;5;124m'\u001b[39m\u001b[38;5;124mbbc-finetuned-model\u001b[39m\u001b[38;5;124m'\u001b[39m \u001b[38;5;66;03m# @param (type: \"string\"}\u001b[39;00m\n\u001b[1;32m      2\u001b[0m tuned_model \u001b[38;5;241m=\u001b[39m TextGenerationModel\u001b[38;5;241m.\u001b[39mfrom_pretrained(\u001b[38;5;124m\"\u001b[39m\u001b[38;5;124mtext-bison@002\u001b[39m\u001b[38;5;124m\"\u001b[39m)\n\u001b[0;32m----> 3\u001b[0m \u001b[43mtuned_model\u001b[49m\u001b[38;5;241;43m.\u001b[39;49m\u001b[43mtune_model\u001b[49m\u001b[43m(\u001b[49m\u001b[43mtraining_data\u001b[49m\u001b[38;5;241;43m=\u001b[39;49m\u001b[43mdf\u001b[49m\u001b[43m,\u001b[49m\u001b[43m \u001b[49m\n\u001b[1;32m      4\u001b[0m \u001b[43m                       \u001b[49m\u001b[43mtrain_steps\u001b[49m\u001b[38;5;241;43m=\u001b[39;49m\u001b[38;5;241;43m100\u001b[39;49m\u001b[43m,\u001b[49m\u001b[43m \u001b[49m\n\u001b[1;32m      5\u001b[0m \u001b[43m                       \u001b[49m\u001b[43mtuning_job_location\u001b[49m\u001b[38;5;241;43m=\u001b[39;49m\u001b[38;5;124;43m\"\u001b[39;49m\u001b[38;5;124;43mus-central1\u001b[39;49m\u001b[38;5;124;43m\"\u001b[39;49m\u001b[43m \u001b[49m\u001b[43m,\u001b[49m\u001b[43m \u001b[49m\n\u001b[1;32m      6\u001b[0m \u001b[43m                       \u001b[49m\u001b[43mtuned_model_location\u001b[49m\u001b[38;5;241;43m=\u001b[39;49m\u001b[38;5;124;43m\"\u001b[39;49m\u001b[38;5;124;43mus-central1\u001b[39;49m\u001b[38;5;124;43m\"\u001b[39;49m\u001b[43m \u001b[49m\u001b[43m,\u001b[49m\n\u001b[1;32m      7\u001b[0m \u001b[43m                       \u001b[49m\u001b[43m)\u001b[49m\n",
      "File \u001b[0;32m~/fine-tune-with-google-cloud/gcpfinetune/lib/python3.10/site-packages/vertexai/language_models/_language_models.py:802\u001b[0m, in \u001b[0;36m_PreviewTunableTextModelMixin.tune_model\u001b[0;34m(self, training_data, train_steps, learning_rate, learning_rate_multiplier, tuning_job_location, tuned_model_location, model_display_name, tuning_evaluation_spec, accelerator_type, max_context_length)\u001b[0m\n\u001b[1;32m    789\u001b[0m \u001b[38;5;66;03m# Note: Chat models do not support default_context\u001b[39;00m\n\u001b[1;32m    790\u001b[0m job \u001b[38;5;241m=\u001b[39m \u001b[38;5;28msuper\u001b[39m()\u001b[38;5;241m.\u001b[39mtune_model(\n\u001b[1;32m    791\u001b[0m     training_data\u001b[38;5;241m=\u001b[39mtraining_data,\n\u001b[1;32m    792\u001b[0m     train_steps\u001b[38;5;241m=\u001b[39mtrain_steps,\n\u001b[0;32m   (...)\u001b[0m\n\u001b[1;32m    800\u001b[0m     max_context_length\u001b[38;5;241m=\u001b[39mmax_context_length,\n\u001b[1;32m    801\u001b[0m )\n\u001b[0;32m--> 802\u001b[0m tuned_model \u001b[38;5;241m=\u001b[39m \u001b[43mjob\u001b[49m\u001b[38;5;241;43m.\u001b[39;49m\u001b[43mget_tuned_model\u001b[49m\u001b[43m(\u001b[49m\u001b[43m)\u001b[49m\n\u001b[1;32m    803\u001b[0m \u001b[38;5;28mself\u001b[39m\u001b[38;5;241m.\u001b[39m_endpoint \u001b[38;5;241m=\u001b[39m tuned_model\u001b[38;5;241m.\u001b[39m_endpoint\n\u001b[1;32m    804\u001b[0m \u001b[38;5;28mself\u001b[39m\u001b[38;5;241m.\u001b[39m_endpoint_name \u001b[38;5;241m=\u001b[39m tuned_model\u001b[38;5;241m.\u001b[39m_endpoint_name\n",
      "File \u001b[0;32m~/fine-tune-with-google-cloud/gcpfinetune/lib/python3.10/site-packages/vertexai/language_models/_language_models.py:3920\u001b[0m, in \u001b[0;36m_LanguageModelTuningJob.get_tuned_model\u001b[0;34m(self)\u001b[0m\n\u001b[1;32m   3918\u001b[0m \u001b[38;5;28;01mif\u001b[39;00m \u001b[38;5;28mself\u001b[39m\u001b[38;5;241m.\u001b[39m_model:\n\u001b[1;32m   3919\u001b[0m     \u001b[38;5;28;01mreturn\u001b[39;00m \u001b[38;5;28mself\u001b[39m\u001b[38;5;241m.\u001b[39m_model\n\u001b[0;32m-> 3920\u001b[0m vertex_model_name \u001b[38;5;241m=\u001b[39m \u001b[38;5;28;43mself\u001b[39;49m\u001b[38;5;241;43m.\u001b[39;49m\u001b[43m_get_tuned_model_name\u001b[49m\u001b[43m(\u001b[49m\u001b[43m)\u001b[49m\n\u001b[1;32m   3921\u001b[0m _LOGGER\u001b[38;5;241m.\u001b[39minfo(\u001b[38;5;124mf\u001b[39m\u001b[38;5;124m\"\u001b[39m\u001b[38;5;124mTuning has completed. Created Vertex Model: \u001b[39m\u001b[38;5;132;01m{\u001b[39;00mvertex_model_name\u001b[38;5;132;01m}\u001b[39;00m\u001b[38;5;124m\"\u001b[39m)\n\u001b[1;32m   3922\u001b[0m \u001b[38;5;28mself\u001b[39m\u001b[38;5;241m.\u001b[39m_model \u001b[38;5;241m=\u001b[39m \u001b[38;5;28mtype\u001b[39m(\u001b[38;5;28mself\u001b[39m\u001b[38;5;241m.\u001b[39m_base_model)\u001b[38;5;241m.\u001b[39mget_tuned_model(\n\u001b[1;32m   3923\u001b[0m     tuned_model_name\u001b[38;5;241m=\u001b[39mvertex_model_name\n\u001b[1;32m   3924\u001b[0m )\n",
      "File \u001b[0;32m~/fine-tune-with-google-cloud/gcpfinetune/lib/python3.10/site-packages/vertexai/language_models/_language_models.py:3854\u001b[0m, in \u001b[0;36m_TuningJob._get_tuned_model_name\u001b[0;34m(self)\u001b[0m\n\u001b[1;32m   3852\u001b[0m \u001b[38;5;28;01mif\u001b[39;00m \u001b[38;5;28mself\u001b[39m\u001b[38;5;241m.\u001b[39m_tuned_model_name:\n\u001b[1;32m   3853\u001b[0m     \u001b[38;5;28;01mreturn\u001b[39;00m \u001b[38;5;28mself\u001b[39m\u001b[38;5;241m.\u001b[39m_tuned_model_name\n\u001b[0;32m-> 3854\u001b[0m \u001b[38;5;28;43mself\u001b[39;49m\u001b[38;5;241;43m.\u001b[39;49m\u001b[43m_job\u001b[49m\u001b[38;5;241;43m.\u001b[39;49m\u001b[43mwait\u001b[49m\u001b[43m(\u001b[49m\u001b[43m)\u001b[49m\n\u001b[1;32m   3856\u001b[0m \u001b[38;5;66;03m# Getting tuned model from the pipeline.\u001b[39;00m\n\u001b[1;32m   3857\u001b[0m model_task \u001b[38;5;241m=\u001b[39m \u001b[38;5;28;01mNone\u001b[39;00m\n",
      "File \u001b[0;32m~/fine-tune-with-google-cloud/gcpfinetune/lib/python3.10/site-packages/google/cloud/aiplatform/pipeline_jobs.py:558\u001b[0m, in \u001b[0;36mPipelineJob.wait\u001b[0;34m(self)\u001b[0m\n\u001b[1;32m    556\u001b[0m \u001b[38;5;250m\u001b[39m\u001b[38;5;124;03m\"\"\"Wait for this PipelineJob to complete.\"\"\"\u001b[39;00m\n\u001b[1;32m    557\u001b[0m \u001b[38;5;28;01mif\u001b[39;00m \u001b[38;5;28mself\u001b[39m\u001b[38;5;241m.\u001b[39m_latest_future \u001b[38;5;129;01mis\u001b[39;00m \u001b[38;5;28;01mNone\u001b[39;00m:\n\u001b[0;32m--> 558\u001b[0m     \u001b[38;5;28;43mself\u001b[39;49m\u001b[38;5;241;43m.\u001b[39;49m\u001b[43m_block_until_complete\u001b[49m\u001b[43m(\u001b[49m\u001b[43m)\u001b[49m\n\u001b[1;32m    559\u001b[0m \u001b[38;5;28;01melse\u001b[39;00m:\n\u001b[1;32m    560\u001b[0m     \u001b[38;5;28msuper\u001b[39m()\u001b[38;5;241m.\u001b[39mwait()\n",
      "File \u001b[0;32m~/fine-tune-with-google-cloud/gcpfinetune/lib/python3.10/site-packages/google/cloud/aiplatform/pipeline_jobs.py:723\u001b[0m, in \u001b[0;36mPipelineJob._block_until_complete\u001b[0;34m(self)\u001b[0m\n\u001b[1;32m    720\u001b[0m \u001b[38;5;66;03m# Error is only populated when the job state is\u001b[39;00m\n\u001b[1;32m    721\u001b[0m \u001b[38;5;66;03m# JOB_STATE_FAILED or JOB_STATE_CANCELLED.\u001b[39;00m\n\u001b[1;32m    722\u001b[0m \u001b[38;5;28;01mif\u001b[39;00m \u001b[38;5;28mself\u001b[39m\u001b[38;5;241m.\u001b[39m_gca_resource\u001b[38;5;241m.\u001b[39mstate \u001b[38;5;129;01min\u001b[39;00m _PIPELINE_ERROR_STATES:\n\u001b[0;32m--> 723\u001b[0m     \u001b[38;5;28;01mraise\u001b[39;00m \u001b[38;5;167;01mRuntimeError\u001b[39;00m(\u001b[38;5;124m\"\u001b[39m\u001b[38;5;124mJob failed with:\u001b[39m\u001b[38;5;130;01m\\n\u001b[39;00m\u001b[38;5;132;01m%s\u001b[39;00m\u001b[38;5;124m\"\u001b[39m \u001b[38;5;241m%\u001b[39m \u001b[38;5;28mself\u001b[39m\u001b[38;5;241m.\u001b[39m_gca_resource\u001b[38;5;241m.\u001b[39merror)\n\u001b[1;32m    724\u001b[0m \u001b[38;5;28;01melse\u001b[39;00m:\n\u001b[1;32m    725\u001b[0m     _LOGGER\u001b[38;5;241m.\u001b[39mlog_action_completed_against_resource(\u001b[38;5;124m\"\u001b[39m\u001b[38;5;124mrun\u001b[39m\u001b[38;5;124m\"\u001b[39m, \u001b[38;5;124m\"\u001b[39m\u001b[38;5;124mcompleted\u001b[39m\u001b[38;5;124m\"\u001b[39m, \u001b[38;5;28mself\u001b[39m)\n",
      "\u001b[0;31mRuntimeError\u001b[0m: Job failed with:\ncode: 9\nmessage: \"The DAG failed because some tasks failed. The failed tasks are: [validate-pipeline].; Job (project_id = fine-tune-vertexai, job_id = 5766574824214233088) is failed due to the above error.; Failed to handle the job: {project_number = 50947485775, job_id = 5766574824214233088}\"\n"
     ]
    }
   ],
   "source": [
    "model_display_name = 'bbc-finetuned-model' # @param (type: \"string\"}\n",
    "tuned_model = TextGenerationModel.from_pretrained(\"text-bison@002\")\n",
    "tuned_model.tune_model(training_data=df, \n",
    "                       train_steps=100, \n",
    "                       tuning_job_location=\"us-central1\" , \n",
    "                       tuned_model_location=\"us-central1\" ,\n",
    "                       )"
   ]
  },
  {
   "cell_type": "code",
   "execution_count": null,
   "metadata": {},
   "outputs": [],
   "source": []
  }
 ],
 "metadata": {
  "kernelspec": {
   "display_name": "Python 3",
   "language": "python",
   "name": "python3"
  },
  "language_info": {
   "codemirror_mode": {
    "name": "ipython",
    "version": 3
   },
   "file_extension": ".py",
   "mimetype": "text/x-python",
   "name": "python",
   "nbconvert_exporter": "python",
   "pygments_lexer": "ipython3",
   "version": "3.10.14"
  }
 },
 "nbformat": 4,
 "nbformat_minor": 2
}
